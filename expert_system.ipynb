{
 "cells": [
  {
   "cell_type": "markdown",
   "metadata": {},
   "source": [
    "salience means priority\n"
   ]
  },
  {
   "cell_type": "code",
   "execution_count": 5,
   "metadata": {},
   "outputs": [],
   "source": [
    "from experta import *\n"
   ]
  },
  {
   "cell_type": "code",
   "execution_count": 6,
   "metadata": {},
   "outputs": [],
   "source": [
    "list_of_disease =[]\n",
    "symptoms_of_disease=[]\n",
    "symptom_map={}\n",
    "describe_map={}\n",
    "treatment_map={}\n",
    "\n"
   ]
  },
  {
   "cell_type": "code",
   "execution_count": 7,
   "metadata": {},
   "outputs": [],
   "source": [
    "def preprocess():\n",
    "    global list_of_diseases,symptoms_of_disease,symptom_map,descibe_map,treatment_map\n",
    "    diseases=open(\"diseases.txt\")\n",
    "    disease_all = diseases.read()\n",
    "    diseases_list=disease_all.split(\"\\n\")\n",
    "    diseases.close()\n",
    "    for single_disease in diseases_list:\n",
    "        s_disease_file = open(\"symptoms/\"+single_disease+\".txt\")\n",
    "        a = s_disease_file.read()\n",
    "        symp_list=a.split(\"\\n\")\n",
    "        symptoms_of_disease.append(symp_list)\n",
    "        symptom_map[str(symp_list)]= single_disease\n",
    "        s_disease_file.close()\n",
    "        \n",
    "        disease_file_describe = open(\"descriptions/\"+single_disease+\".txt\")\n",
    "        b = disease_file_describe.read()\n",
    "        describe_map[single_disease]= b\n",
    "        disease_file_describe.close()\n",
    "        \n",
    "        disease_file_treatement = open(\"treatments/\"+single_disease+\".txt\")\n",
    "        c =  disease_file_treatement.read()\n",
    "        treatment_map[single_disease]= c\n",
    "        disease_file_describe.close()\n",
    "        \n",
    "    "
   ]
  },
  {
   "cell_type": "code",
   "execution_count": 8,
   "metadata": {},
   "outputs": [],
   "source": [
    "def identify_disease(*args):\n",
    "    symptom_list=[]\n",
    "    for a in args:\n",
    "        symptom_list.append(a)\n",
    "    return symptom_map[str(symptom_list)]"
   ]
  },
  {
   "cell_type": "code",
   "execution_count": 9,
   "metadata": {},
   "outputs": [],
   "source": [
    "def get_description(disease):\n",
    "    return describe_map[disease]\n"
   ]
  },
  {
   "cell_type": "code",
   "execution_count": 10,
   "metadata": {},
   "outputs": [],
   "source": [
    "def get_treatment(disease):\n",
    "\n",
    "    return treatment_map[disease]"
   ]
  },
  {
   "cell_type": "code",
   "execution_count": 11,
   "metadata": {},
   "outputs": [],
   "source": [
    "def if_not_matching(disease):\n",
    "    \n",
    "    disease_detail=get_description(disease)\n",
    "    disease_treatment= get_treatment(disease)\n",
    "    print(\"the most probable disease is \",disease,\"\\n\")\n",
    "    print(\"the short description is \",disease_detail,\"\\n\")\n",
    "    print(\"the common medicines are \",disease_treatment, \"\\n\")\n",
    "    \n",
    "    \n",
    "    \n",
    "    \n",
    "    "
   ]
  },
  {
   "cell_type": "code",
   "execution_count": 12,
   "metadata": {},
   "outputs": [],
   "source": [
    "class Welcome(KnowledgeEngine):\n",
    "    @DefFacts()\n",
    "    def initial(self):\n",
    "        print(\"Welcome this is DR. Experta, we declare your disease result on the basis of facts\\n\")\n",
    "        \n",
    "        yield Fact(action=\"find_disease\")\n",
    "        \n",
    "    @Rule(Fact(action='find_disease'),NOT(Fact(cough=W())),salience=1)\n",
    "    def symptom_0(self):\n",
    "        self.declare(Fact(cough=input(\"cough: \")))  #first\n",
    "    \n",
    "    @Rule(Fact(action='find_disease'),NOT(Fact(diarrhea=W())),salience=1)\n",
    "    def symptom_1(self):\n",
    "        self.declare(Fact(diarrhea=input(\"diarrhea: \")))  #first\n",
    "   \n",
    "    \n",
    "    @Rule(Fact(action='find_disease'),NOT(Fact(respiratory=W())),salience=1)\n",
    "    def symptom_2(self):\n",
    "        self.declare(Fact(respiratory=input(\"respiratory: \")))  #first\n",
    "    \n",
    "    @Rule(Fact(action='find_disease'),NOT(Fact(fever=W())),salience=1)\n",
    "    def symptom_3(self):\n",
    "        self.declare(Fact(fever=input(\"fever: \")))  #first\n",
    "    \n",
    "    @Rule(Fact(action='find_disease'),NOT(Fact(headache=W())),salience=1)\n",
    "    def symptom_4(self):\n",
    "        self.declare(Fact(headache=input(\"headache: \")))  #first\n",
    "    \n",
    "    @Rule(Fact(action='find_disease'),NOT(Fact(muscle_ache=W())),salience=1)\n",
    "    def symptom_5(self):\n",
    "        self.declare(Fact(muscle_ache=input(\"muscle_ache: \")))  #first\n",
    "    \n",
    "    @Rule(Fact(action='find_disease'),NOT(Fact(malaise=W())),salience=1)\n",
    "    def symptom_6(self):\n",
    "        self.declare(Fact(malaise=input(\"malaise: \")))  #first\n",
    "    \n",
    "    @Rule(Fact(action='find_disease'),NOT(Fact(runny_nose=W())),salience=1)   #first\n",
    "    def symptom_7(self):\n",
    "        self.declare(Fact(runny_nose=input(\"runny_nose: \")))  #first\n",
    "    \n",
    "    @Rule(Fact(action='find_disease'),NOT(Fact(sore_throat=W())),salience=1)\n",
    "    def symptom_8(self):\n",
    "        self.declare(Fact(sore_throat=input(\"sore_throat: \")))  #first\n",
    "    @Rule(Fact(action='find_disease'),NOT(Fact(blood_pressure=W())),salience=1)\n",
    "    def symptom_9(self):\n",
    "        self.declare(Fact(blood_pressure=input(\"blood_pressure: \")))  #first\n",
    "    @Rule(Fact(action='find_disease'),NOT(Fact(fatigue=W())),salience=1)\n",
    "    def symptom_10(self):\n",
    "        self.declare(Fact(fatigue=input(\"fatigue: \")))  #first\n",
    "    @Rule(Fact(action='find_disease'),NOT(Fact(shortness_of_breath=W())),salience=1)\n",
    "    def symptom_11(self):\n",
    "        self.declare(Fact(shortness_of_breath=input(\"shortness_of_breath: \")))  #first\n",
    "    \n",
    "    \n",
    "    \n",
    "    @Rule(Fact(action='find_disease'),Fact(cough=\"no\"),Fact(diarrhea=\"yes\"),\n",
    "          Fact(respiratory=\"no\"),\n",
    "          Fact(fever=\"yes\"),Fact(headache=\"no\"),Fact(muscle_ache=\"yes\"),\n",
    "          Fact(malaise=\"yes\"),Fact(runny_nose=\"no\"),Fact(sore_throat=\"yes\"),Fact(blood_pressure=\"yes\"),\n",
    "         Fact(fatigue=\"no\"),Fact(shortness_of_breath=\"no\"))\n",
    "    def disease_0(self):\n",
    "          self.declare(Fact(disease=\"birdflu\"))\n",
    "    @Rule(Fact(action='find_disease'),Fact(cough=\"yes\"),Fact(diarrhea=\"no\"),\n",
    "          Fact(respiratory=\"yes\"),\n",
    "          Fact(fever=\"no\"),Fact(headache=\"yes\"),Fact(muscle_ache=\"yes\"),\n",
    "          Fact(malaise=\"no\"),Fact(runny_nose=\"no\"),Fact(sore_throat=\"yes\"),Fact(blood_pressure=\"yes\"),\n",
    "         Fact(fatigue=\"no\"),Fact(shortness_of_breath=\"no\"))\n",
    "    def disease_1(self):\n",
    "          self.declare(Fact(disease=\"diabetes\"))\n",
    "    @Rule(Fact(action='find_disease'),Fact(cough=\"yes\"),Fact(diarrhea=\"no\"),\n",
    "          Fact(respiratory=\"no\"),\n",
    "          Fact(fever=\"yes\"),Fact(headache=\"no\"),Fact(muscle_ache=\"no\"),\n",
    "          Fact(malaise=\"yes\"),Fact(runny_nose=\"yes\"),Fact(sore_throat=\"yes\"),Fact(blood_pressure=\"yes\"),\n",
    "         Fact(fatigue=\"no\"),Fact(shortness_of_breath=\"yes\"))\n",
    "    def disease_2(self):\n",
    "          self.declare(Fact(disease=\"corona\"))\n",
    "    @Rule(Fact(action='find_disease'),Fact(cough=\"yes\"),Fact(diarrhea=\"no\"),\n",
    "          Fact(respiratory=\"yes\"),\n",
    "          Fact(fever=\"no\"),Fact(headache=\"no\"),Fact(muscle_ache=\"no\"),\n",
    "          Fact(malaise=\"no\"),Fact(runny_nose=\"no\"),Fact(sore_throat=\"no\"),Fact(blood_pressure=\"no\"),\n",
    "         Fact(fatigue=\"no\"),Fact(shortness_of_breath=\"no\"))\n",
    "    def disease_3(self):\n",
    "          self.declare(Fact(disease=\"asthma\"))\n",
    "    @Rule(Fact(action='find_disease'),Fact(cough=\"yes\"),Fact(diarrhea=\"no\"),\n",
    "          Fact(respiratory=\"yes\"),\n",
    "          Fact(fever=\"yes\"),Fact(headache=\"no\"),Fact(muscle_ache=\"no\"),\n",
    "          Fact(malaise=\"no\"),Fact(runny_nose=\"no\"),Fact(sore_throat=\"yes\"),Fact(blood_pressure=\"no\"),\n",
    "         Fact(fatigue=\"yes\"),Fact(shortness_of_breath=\"no\"))\n",
    "    def disease_4(self):\n",
    "          self.declare(Fact(disease=\"tuberclosis\"))\n",
    "          \n",
    "    @Rule(Fact(action='find_disease'),Fact(disease=MATCH.disease),salience=-998)\n",
    "    def disease(self,disease):\n",
    "        a =disease\n",
    "        \n",
    "        disease_detail=get_description(a)\n",
    "        disease_treatment=get_treatment(a)\n",
    "        print(\"the most probable disease is \"+a+\"\\n\")\n",
    "        print(\"the short description is \"+disease_detail+\"\\n\")\n",
    "        print(\"the common medications are \"+disease_treatment+ \"\\n\")\n",
    "        \n",
    "    @Rule(Fact(action='find_disease'),\n",
    "         Fact(cough=MATCH.cough),\n",
    "         Fact(diarrhea=MATCH.diarrhea),\n",
    "         Fact(respiratory=MATCH.respiratory),\n",
    "         Fact(fever=MATCH.fever),\n",
    "         Fact(headache=MATCH.headache),\n",
    "         Fact(muscle_ache=MATCH.muscle_ache),\n",
    "         Fact(malaise=MATCH.malaise),\n",
    "         Fact(runny_nose=MATCH.runny_nose),\n",
    "         Fact(sore_throat=MATCH.sore_throat),\n",
    "         Fact(blood_pressure=MATCH.blood_pressure),\n",
    "         Fact(fatigue=MATCH.fatigue),\n",
    "         Fact(shortness_of_breath=MATCH.shortness_of_breath),\n",
    "         NOT(Fact(disease=MATCH.disease)),salience=-999)\n",
    "        \n",
    "    def not_matched(self,cough,diarrhea,respiratory,fever,headache,muscle_ache,malaise,runny_nose,sore_throat,blood_pressure,fatigue,shortness_of_breath):\n",
    "        print(\"Your Symptoms doesn't matches our record however,\")\n",
    "        listofsymp=[cough,diarrhea,respiratory,fever,headache,muscle_ache,malaise,runny_nose,sore_throat,blood_pressure,fatigue,shortness_of_breath]\n",
    "        max_count = 0\n",
    "        max_disease = \"\"\n",
    "        for key,val in symptom_map.items():\n",
    "            count = 0\n",
    "            temp = eval(key)\n",
    "            for i in range(0,len(listofsymp)):\n",
    "                if(temp[i] == listofsymp[i] and listofsymp[i] == \"yes\"):\n",
    "                    count = count + 1\n",
    "            if count > max_count:\n",
    "                max_count = count\n",
    "                max_disease = val\n",
    "            \n",
    "        if_not_matching(max_disease)\n",
    "\n",
    "    \n",
    "          \n",
    "        "
   ]
  },
  {
   "cell_type": "markdown",
   "metadata": {},
   "source": []
  },
  {
   "cell_type": "code",
   "execution_count": 13,
   "metadata": {},
   "outputs": [
    {
     "name": "stdout",
     "output_type": "stream",
     "text": [
      "Welcome this is DR. Experta, we declare your disease result on the basis of facts\n",
      "\n",
      "cough: no\n",
      "blood_pressure: yes\n",
      "shortness_of_breath: no\n",
      "headache: no\n",
      "muscle_ache: yes\n",
      "respiratory: no\n",
      "sore_throat: no\n",
      "runny_nose: no\n",
      "diarrhea: yes\n",
      "fatigue: no\n",
      "fever: no\n",
      "malaise: yes\n",
      "Your Symptoms doesn't matches our record however,\n",
      "the most probable disease is  birdflu \n",
      "\n",
      "the short description is  Bird flu, also called avian influenza, is a viral infection that can infect not only birds, but also humans and other animals. Most forms of the virus are restricted to birds.\n",
      "\n",
      "H5N1 is the most common form of bird flu. Itâ€™s deadly to birds and can easily affect humans and other animals that come in contact with a carrier. According to the World Health OrganizationTrusted Source, H5N1 was first discovered in humans in 1997 and has killed nearly 60 percentTrusted Source of those infected.\n",
      "\n",
      "Currently, the virus isnâ€™t known to spread via human-to-human contact. Still, some experts worry that H5N1 may pose a risk of becoming a pandemic threat to humans. \n",
      "\n",
      "the common medicines are  Because of the small number of human cases, it has not been possible to conduct rigorous medical or medication treatment trials for bird flu. The CDC suggests the best way to prevent bird flu is to avoid exposure whenever possible to birds and their feces. People are advised not to touch any ill-appearing or dead birds. The CDC and the World Health Organization (WHO) currently recommend antiviral drugs oseltamivir (Tamiflu) and zanamivir (Relenza) for the treatment and prevention of avian influenza A viruses along with supportive care. The U.S. government is currently stockpiling H5N1 vaccine in case the virus begins easy person-to-person transmission. Currently, there is no vaccine to protect against H7N9 types of bird flu. \n",
      "\n",
      "would you like to add some other symptoms?\n",
      "no\n",
      "Thank you for showing up! Hope to cure your disease.\n"
     ]
    }
   ],
   "source": [
    "if __name__==\"__main__\":\n",
    "        preprocess()\n",
    "        engine=Welcome()\n",
    "        while(1):\n",
    "            engine.reset()   #prepare\n",
    "            engine.run()\n",
    "            print(\"would you like to add some other symptoms?\")\n",
    "            if input()==\"no\":\n",
    "                print(\"Thank you for showing up! Hope to cure your disease.\")\n",
    "                break\n",
    "            "
   ]
  },
  {
   "cell_type": "code",
   "execution_count": 14,
   "metadata": {},
   "outputs": [
    {
     "name": "stdout",
     "output_type": "stream",
     "text": [
      "<f-0>: InitialFact()\n",
      "<f-1>: Fact(action='find_disease')\n",
      "<f-2>: Fact(cough='no')\n",
      "<f-3>: Fact(blood_pressure='yes')\n",
      "<f-4>: Fact(shortness_of_breath='no')\n",
      "<f-5>: Fact(headache='no')\n",
      "<f-6>: Fact(muscle_ache='yes')\n",
      "<f-7>: Fact(respiratory='no')\n",
      "<f-8>: Fact(sore_throat='no')\n",
      "<f-9>: Fact(runny_nose='no')\n",
      "<f-10>: Fact(diarrhea='yes')\n",
      "<f-11>: Fact(fatigue='no')\n",
      "<f-12>: Fact(fever='no')\n",
      "<f-13>: Fact(malaise='yes')\n"
     ]
    }
   ],
   "source": [
    "print(engine.facts)"
   ]
  },
  {
   "cell_type": "code",
   "execution_count": null,
   "metadata": {},
   "outputs": [],
   "source": []
  },
  {
   "cell_type": "code",
   "execution_count": null,
   "metadata": {},
   "outputs": [],
   "source": [
    "    "
   ]
  },
  {
   "cell_type": "code",
   "execution_count": null,
   "metadata": {},
   "outputs": [],
   "source": []
  },
  {
   "cell_type": "code",
   "execution_count": null,
   "metadata": {},
   "outputs": [],
   "source": []
  },
  {
   "cell_type": "code",
   "execution_count": null,
   "metadata": {},
   "outputs": [],
   "source": []
  },
  {
   "cell_type": "code",
   "execution_count": null,
   "metadata": {},
   "outputs": [],
   "source": []
  },
  {
   "cell_type": "code",
   "execution_count": null,
   "metadata": {},
   "outputs": [],
   "source": []
  },
  {
   "cell_type": "code",
   "execution_count": null,
   "metadata": {},
   "outputs": [],
   "source": []
  },
  {
   "cell_type": "code",
   "execution_count": null,
   "metadata": {},
   "outputs": [],
   "source": []
  },
  {
   "cell_type": "code",
   "execution_count": null,
   "metadata": {},
   "outputs": [],
   "source": []
  },
  {
   "cell_type": "code",
   "execution_count": null,
   "metadata": {},
   "outputs": [],
   "source": []
  },
  {
   "cell_type": "code",
   "execution_count": null,
   "metadata": {},
   "outputs": [],
   "source": []
  },
  {
   "cell_type": "code",
   "execution_count": null,
   "metadata": {},
   "outputs": [],
   "source": []
  },
  {
   "cell_type": "code",
   "execution_count": null,
   "metadata": {},
   "outputs": [],
   "source": []
  },
  {
   "cell_type": "code",
   "execution_count": null,
   "metadata": {},
   "outputs": [],
   "source": []
  },
  {
   "cell_type": "code",
   "execution_count": null,
   "metadata": {},
   "outputs": [],
   "source": []
  },
  {
   "cell_type": "code",
   "execution_count": null,
   "metadata": {},
   "outputs": [],
   "source": []
  },
  {
   "cell_type": "code",
   "execution_count": null,
   "metadata": {},
   "outputs": [],
   "source": []
  },
  {
   "cell_type": "code",
   "execution_count": null,
   "metadata": {},
   "outputs": [],
   "source": []
  },
  {
   "cell_type": "code",
   "execution_count": null,
   "metadata": {},
   "outputs": [],
   "source": []
  },
  {
   "cell_type": "code",
   "execution_count": null,
   "metadata": {},
   "outputs": [],
   "source": []
  },
  {
   "cell_type": "code",
   "execution_count": null,
   "metadata": {},
   "outputs": [],
   "source": []
  },
  {
   "cell_type": "code",
   "execution_count": null,
   "metadata": {},
   "outputs": [],
   "source": []
  },
  {
   "cell_type": "code",
   "execution_count": null,
   "metadata": {},
   "outputs": [],
   "source": []
  },
  {
   "cell_type": "code",
   "execution_count": null,
   "metadata": {},
   "outputs": [],
   "source": []
  },
  {
   "cell_type": "code",
   "execution_count": null,
   "metadata": {},
   "outputs": [],
   "source": []
  },
  {
   "cell_type": "code",
   "execution_count": null,
   "metadata": {},
   "outputs": [],
   "source": []
  },
  {
   "cell_type": "code",
   "execution_count": null,
   "metadata": {},
   "outputs": [],
   "source": []
  },
  {
   "cell_type": "code",
   "execution_count": null,
   "metadata": {},
   "outputs": [],
   "source": []
  }
 ],
 "metadata": {
  "kernelspec": {
   "display_name": "Python 3",
   "language": "python",
   "name": "python3"
  },
  "language_info": {
   "codemirror_mode": {
    "name": "ipython",
    "version": 3
   },
   "file_extension": ".py",
   "mimetype": "text/x-python",
   "name": "python",
   "nbconvert_exporter": "python",
   "pygments_lexer": "ipython3",
   "version": "3.7.6"
  }
 },
 "nbformat": 4,
 "nbformat_minor": 4
}
